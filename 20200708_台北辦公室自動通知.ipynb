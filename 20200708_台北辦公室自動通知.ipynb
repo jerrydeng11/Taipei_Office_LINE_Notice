{
 "cells": [
  {
   "cell_type": "markdown",
   "metadata": {},
   "source": [
    "# 教學網址收集\n",
    "* [Pandas.DataFrame插入列和行](https://www.jianshu.com/p/7df2593a01ce)\n",
    "* [透過 Python 發 Line Notify](http://pythonorz.blogspot.com/2017/12/python-line-notify-line-notify-line.html)\n",
    "* [到設定網址  https://notify-bot.line.me/zh_TW/  進行登入](https://notify-bot.line.me/zh_TW/)\n",
    "* [台北辦公室 生活公約](https://docs.google.com/presentation/d/1QTi_Ui7rgbEFeesdi2_yDTc3Xs7c6qB07m6ElC28jR8/edit#slide=id.g42e71d88a5_0_0)\n",
    "* [某些列满足特定条件，然后改变另外的某些列的值（Python）](https://blog.csdn.net/a19990412/article/details/79609422)\n",
    "* [dataframe设置两个条件取值](https://blog.csdn.net/GeekLeee/article/details/75268762)\n",
    "* [短網址](https://www.ifreesite.com/shorturl/)\n",
    "* [符號 ❤](https://tw.piliapp.com/emoji/list/symbols/)\n",
    "\n",
    "# 目標\n",
    "1. 每周台辦公室值日生通知\n",
    "2. 國定假日值日生通知\n",
    "3. 生日通知\n",
    "4. 預留增加通知方法\n",
    "\n",
    "# 需要功能或準備\n",
    "1. windows 自動排程 ok\n",
    "2. 值日生編排 ok\n",
    "3. 準備國定假日表 ok\n",
    "4. 準備生日表\n",
    "5. LINE開發者設定 https://notify-bot.line.me/zh_TW/ ok\n",
    "\n",
    "# 資料來源\n",
    "* [【2020行事曆,109年行事曆】國定假日,連假補班㊕109年元旦過年春節.. @ 莊董的生活情報讚 :: 痞客邦 ::](https://lovefree365.pixnet.net/blog/post/403620095-2020-calendar-%E8%A1%8C%E4%BA%8B%E6%9B%86%2C%E5%9C%8B%E5%AE%9A%E5%81%87%E6%97%A5%2C%E9%80%A3%E5%81%87%E6%94%BB%E7%95%A5%2C%E5%9C%8B%E4%B8%AD%E5%B0%8F)\n",
    "* [2019人事行政局108年行事曆](https://www.319papago.idv.tw/holiday/2019-hr/2019_HR.html)\n",
    "\n",
    "# 安裝套件\n",
    "\n",
    "```shell\n",
    "pip install requests\n",
    "```"
   ]
  },
  {
   "cell_type": "markdown",
   "metadata": {},
   "source": [
    "# 標準流程 (重要)\n",
    "\n",
    "開始修改以下程式時，請先關閉 windows 10 工作排程\n",
    "\n",
    "修改完成再開啟工作排程"
   ]
  },
  {
   "cell_type": "markdown",
   "metadata": {},
   "source": [
    "## 讀資料"
   ]
  },
  {
   "cell_type": "code",
   "execution_count": 1,
   "metadata": {},
   "outputs": [
    {
     "data": {
      "text/html": [
       "<div>\n",
       "<style scoped>\n",
       "    .dataframe tbody tr th:only-of-type {\n",
       "        vertical-align: middle;\n",
       "    }\n",
       "\n",
       "    .dataframe tbody tr th {\n",
       "        vertical-align: top;\n",
       "    }\n",
       "\n",
       "    .dataframe thead th {\n",
       "        text-align: right;\n",
       "    }\n",
       "</style>\n",
       "<table border=\"1\" class=\"dataframe\">\n",
       "  <thead>\n",
       "    <tr style=\"text-align: right;\">\n",
       "      <th></th>\n",
       "      <th>date</th>\n",
       "      <th>bool</th>\n",
       "      <th>text</th>\n",
       "    </tr>\n",
       "  </thead>\n",
       "  <tbody>\n",
       "    <tr>\n",
       "      <th>0</th>\n",
       "      <td>2019-08-26 08:00:00</td>\n",
       "      <td>True</td>\n",
       "      <td>2019-08-26 08:00:00 這週值日生是 曾偉雄 詳細請參閱https://go...</td>\n",
       "    </tr>\n",
       "    <tr>\n",
       "      <th>1</th>\n",
       "      <td>2019-09-02 08:00:00</td>\n",
       "      <td>True</td>\n",
       "      <td>2019-09-02 08:00:00 這週值日生是 曹志成 詳細請參閱https://go...</td>\n",
       "    </tr>\n",
       "    <tr>\n",
       "      <th>2</th>\n",
       "      <td>2019-09-09 08:00:00</td>\n",
       "      <td>True</td>\n",
       "      <td>2019-09-09 08:00:00 這週值日生是 jerrydeng 詳細請參閱http...</td>\n",
       "    </tr>\n",
       "    <tr>\n",
       "      <th>3</th>\n",
       "      <td>2019-09-12 17:00:00</td>\n",
       "      <td>True</td>\n",
       "      <td>😁國定假日參考:中秋節逢週五，放三日 9/13~9/15</td>\n",
       "    </tr>\n",
       "    <tr>\n",
       "      <th>4</th>\n",
       "      <td>2019-09-16 08:00:00</td>\n",
       "      <td>True</td>\n",
       "      <td>2019-09-16 08:00:00 這週值日生是 JSWANG 詳細請參閱https:/...</td>\n",
       "    </tr>\n",
       "  </tbody>\n",
       "</table>\n",
       "</div>"
      ],
      "text/plain": [
       "                  date  bool  \\\n",
       "0  2019-08-26 08:00:00  True   \n",
       "1  2019-09-02 08:00:00  True   \n",
       "2  2019-09-09 08:00:00  True   \n",
       "3  2019-09-12 17:00:00  True   \n",
       "4  2019-09-16 08:00:00  True   \n",
       "\n",
       "                                                text  \n",
       "0  2019-08-26 08:00:00 這週值日生是 曾偉雄 詳細請參閱https://go...  \n",
       "1  2019-09-02 08:00:00 這週值日生是 曹志成 詳細請參閱https://go...  \n",
       "2  2019-09-09 08:00:00 這週值日生是 jerrydeng 詳細請參閱http...  \n",
       "3                       😁國定假日參考:中秋節逢週五，放三日 9/13~9/15  \n",
       "4  2019-09-16 08:00:00 這週值日生是 JSWANG 詳細請參閱https:/...  "
      ]
     },
     "execution_count": 1,
     "metadata": {},
     "output_type": "execute_result"
    }
   ],
   "source": [
    "import pandas as pd\n",
    "path = 'LINE Notify2.txt'\n",
    "df = pd.read_csv(path, encoding='utf8')  # 讀檔\n",
    "df.head()"
   ]
  },
  {
   "cell_type": "markdown",
   "metadata": {},
   "source": [
    "## 值日生編排"
   ]
  },
  {
   "cell_type": "code",
   "execution_count": 3,
   "metadata": {},
   "outputs": [
    {
     "data": {
      "text/html": [
       "<div>\n",
       "<style scoped>\n",
       "    .dataframe tbody tr th:only-of-type {\n",
       "        vertical-align: middle;\n",
       "    }\n",
       "\n",
       "    .dataframe tbody tr th {\n",
       "        vertical-align: top;\n",
       "    }\n",
       "\n",
       "    .dataframe thead th {\n",
       "        text-align: right;\n",
       "    }\n",
       "</style>\n",
       "<table border=\"1\" class=\"dataframe\">\n",
       "  <thead>\n",
       "    <tr style=\"text-align: right;\">\n",
       "      <th></th>\n",
       "      <th>date</th>\n",
       "      <th>bool</th>\n",
       "      <th>text</th>\n",
       "    </tr>\n",
       "  </thead>\n",
       "  <tbody>\n",
       "    <tr>\n",
       "      <th>0</th>\n",
       "      <td>2019-08-26 08:00:00</td>\n",
       "      <td>False</td>\n",
       "      <td>2019-08-26 08:00:00 這週值日生是 曾偉雄 詳細請參閱https://go...</td>\n",
       "    </tr>\n",
       "    <tr>\n",
       "      <th>1</th>\n",
       "      <td>2019-09-02 08:00:00</td>\n",
       "      <td>False</td>\n",
       "      <td>2019-09-02 08:00:00 這週值日生是 曹志成 詳細請參閱https://go...</td>\n",
       "    </tr>\n",
       "    <tr>\n",
       "      <th>2</th>\n",
       "      <td>2019-09-09 08:00:00</td>\n",
       "      <td>False</td>\n",
       "      <td>2019-09-09 08:00:00 這週值日生是 jerrydeng 詳細請參閱http...</td>\n",
       "    </tr>\n",
       "    <tr>\n",
       "      <th>3</th>\n",
       "      <td>2019-09-16 08:00:00</td>\n",
       "      <td>False</td>\n",
       "      <td>2019-09-16 08:00:00 這週值日生是 JSWANG 詳細請參閱https:/...</td>\n",
       "    </tr>\n",
       "    <tr>\n",
       "      <th>4</th>\n",
       "      <td>2019-09-23 08:00:00</td>\n",
       "      <td>False</td>\n",
       "      <td>2019-09-23 08:00:00 這週值日生是 DAVE 詳細請參閱https://g...</td>\n",
       "    </tr>\n",
       "  </tbody>\n",
       "</table>\n",
       "</div>"
      ],
      "text/plain": [
       "                 date   bool  \\\n",
       "0 2019-08-26 08:00:00  False   \n",
       "1 2019-09-02 08:00:00  False   \n",
       "2 2019-09-09 08:00:00  False   \n",
       "3 2019-09-16 08:00:00  False   \n",
       "4 2019-09-23 08:00:00  False   \n",
       "\n",
       "                                                text  \n",
       "0  2019-08-26 08:00:00 這週值日生是 曾偉雄 詳細請參閱https://go...  \n",
       "1  2019-09-02 08:00:00 這週值日生是 曹志成 詳細請參閱https://go...  \n",
       "2  2019-09-09 08:00:00 這週值日生是 jerrydeng 詳細請參閱http...  \n",
       "3  2019-09-16 08:00:00 這週值日生是 JSWANG 詳細請參閱https:/...  \n",
       "4  2019-09-23 08:00:00 這週值日生是 DAVE 詳細請參閱https://g...  "
      ]
     },
     "execution_count": 3,
     "metadata": {},
     "output_type": "execute_result"
    }
   ],
   "source": [
    "# 載入套件\n",
    "import time\n",
    "import pandas as pd\n",
    "\n",
    "# # 變數_舊\n",
    "# ##################################################################################\n",
    "# start = '2018-08-13 08:00:00'  #開始時間\n",
    "# end = '2021-08-17 08:00:00'  # 結束時間\n",
    "# name = ['DAVE', '鄧秀明', '雅雅', '曹志成', 'jerrydeng', 'JSWANG']  # 辦公室人員名稱\n",
    "# ##################################################################################\n",
    "\n",
    "# # 變數_新\n",
    "# ##################################################################################\n",
    "# start = '2019-08-26 08:00:00'  #開始時間\n",
    "# end = '2022-08-26 08:00:00'  # 結束時間\n",
    "# name = ['陳宥樺', '曹志成', 'jerrydeng', 'JSWANG', 'DAVE', '鄧秀明']  # 辦公室人員名稱_新\n",
    "# ##################################################################################\n",
    "\n",
    "# 變數_新\n",
    "##################################################################################\n",
    "start = '2019-08-26 08:00:00'  #開始時間\n",
    "end = '2022-08-26 08:00:00'  # 結束時間\n",
    "name = ['曾偉雄', '曹志成', 'jerrydeng', 'JSWANG', 'DAVE', '鄧秀明']  # 辦公室人員名稱_新\n",
    "##################################################################################\n",
    "\n",
    "# 時間轉換為 Unix 時間戳\n",
    "start_unix = time.mktime(time.strptime(start,\"%Y-%m-%d %H:%M:%S\"))\n",
    "end_unix = time.mktime(time.strptime(end,\"%Y-%m-%d %H:%M:%S\"))\n",
    "\n",
    "dates = []\n",
    "n = 0\n",
    "while start_unix<end_unix:\n",
    "    # 格式化成Sat Mar 28 22:24:24 2016形式\n",
    "    date = time.strftime(\"%Y-%m-%d %H:%M:%S\", time.localtime(start_unix))\n",
    "    dates.append([date, \n",
    "                  False, \n",
    "                  \"{0} 這週值日生是 {1} 詳細請參閱https://goo.gl/15qpxK 感謝 {1}!💖\".format(date, name[n%len(name)])])\n",
    "    start_unix += 86400*7\n",
    "    n += 1\n",
    "# #print(dates)\n",
    "df = pd.DataFrame(dates, columns=['date', 'bool', 'text'])\n",
    "df['date'] = pd.to_datetime(df['date'])\n",
    "# #print(df.dtypes)\n",
    "\n",
    "# 存檔\n",
    "# df.to_csv('LINE Notify2.txt', index=False, encoding='utf8')\n",
    "\n",
    "df.head()"
   ]
  },
  {
   "cell_type": "markdown",
   "metadata": {},
   "source": [
    "# 增加國定假日表"
   ]
  },
  {
   "cell_type": "code",
   "execution_count": 4,
   "metadata": {},
   "outputs": [
    {
     "data": {
      "text/html": [
       "<div>\n",
       "<style scoped>\n",
       "    .dataframe tbody tr th:only-of-type {\n",
       "        vertical-align: middle;\n",
       "    }\n",
       "\n",
       "    .dataframe tbody tr th {\n",
       "        vertical-align: top;\n",
       "    }\n",
       "\n",
       "    .dataframe thead th {\n",
       "        text-align: right;\n",
       "    }\n",
       "</style>\n",
       "<table border=\"1\" class=\"dataframe\">\n",
       "  <thead>\n",
       "    <tr style=\"text-align: right;\">\n",
       "      <th></th>\n",
       "      <th>date</th>\n",
       "      <th>bool</th>\n",
       "      <th>text</th>\n",
       "    </tr>\n",
       "  </thead>\n",
       "  <tbody>\n",
       "    <tr>\n",
       "      <th>0</th>\n",
       "      <td>2019-08-26 08:00:00</td>\n",
       "      <td>False</td>\n",
       "      <td>2019-08-26 08:00:00 這週值日生是 曾偉雄 詳細請參閱https://go...</td>\n",
       "    </tr>\n",
       "    <tr>\n",
       "      <th>1</th>\n",
       "      <td>2019-09-02 08:00:00</td>\n",
       "      <td>False</td>\n",
       "      <td>2019-09-02 08:00:00 這週值日生是 曹志成 詳細請參閱https://go...</td>\n",
       "    </tr>\n",
       "    <tr>\n",
       "      <th>2</th>\n",
       "      <td>2019-09-09 08:00:00</td>\n",
       "      <td>False</td>\n",
       "      <td>2019-09-09 08:00:00 這週值日生是 jerrydeng 詳細請參閱http...</td>\n",
       "    </tr>\n",
       "    <tr>\n",
       "      <th>157</th>\n",
       "      <td>2019-09-12 17:00:00</td>\n",
       "      <td>True</td>\n",
       "      <td>😁國定假日參考:中秋節逢週五，放三日 9/13~9/15</td>\n",
       "    </tr>\n",
       "    <tr>\n",
       "      <th>3</th>\n",
       "      <td>2019-09-16 08:00:00</td>\n",
       "      <td>False</td>\n",
       "      <td>2019-09-16 08:00:00 這週值日生是 JSWANG 詳細請參閱https:/...</td>\n",
       "    </tr>\n",
       "    <tr>\n",
       "      <th>4</th>\n",
       "      <td>2019-09-23 08:00:00</td>\n",
       "      <td>False</td>\n",
       "      <td>2019-09-23 08:00:00 這週值日生是 DAVE 詳細請參閱https://g...</td>\n",
       "    </tr>\n",
       "    <tr>\n",
       "      <th>5</th>\n",
       "      <td>2019-09-30 08:00:00</td>\n",
       "      <td>False</td>\n",
       "      <td>2019-09-30 08:00:00 這週值日生是 鄧秀明 詳細請參閱https://go...</td>\n",
       "    </tr>\n",
       "    <tr>\n",
       "      <th>158</th>\n",
       "      <td>2019-10-04 17:00:00</td>\n",
       "      <td>True</td>\n",
       "      <td>😁國定假日參考:國慶日逢週四，週五(10/11)彈性放假一天，放四天連假(10/10~10/...</td>\n",
       "    </tr>\n",
       "    <tr>\n",
       "      <th>6</th>\n",
       "      <td>2019-10-07 08:00:00</td>\n",
       "      <td>False</td>\n",
       "      <td>2019-10-07 08:00:00 這週值日生是 曾偉雄 詳細請參閱https://go...</td>\n",
       "    </tr>\n",
       "    <tr>\n",
       "      <th>7</th>\n",
       "      <td>2019-10-14 08:00:00</td>\n",
       "      <td>False</td>\n",
       "      <td>2019-10-14 08:00:00 這週值日生是 曹志成 詳細請參閱https://go...</td>\n",
       "    </tr>\n",
       "  </tbody>\n",
       "</table>\n",
       "</div>"
      ],
      "text/plain": [
       "                   date   bool  \\\n",
       "0   2019-08-26 08:00:00  False   \n",
       "1   2019-09-02 08:00:00  False   \n",
       "2   2019-09-09 08:00:00  False   \n",
       "157 2019-09-12 17:00:00   True   \n",
       "3   2019-09-16 08:00:00  False   \n",
       "4   2019-09-23 08:00:00  False   \n",
       "5   2019-09-30 08:00:00  False   \n",
       "158 2019-10-04 17:00:00   True   \n",
       "6   2019-10-07 08:00:00  False   \n",
       "7   2019-10-14 08:00:00  False   \n",
       "\n",
       "                                                  text  \n",
       "0    2019-08-26 08:00:00 這週值日生是 曾偉雄 詳細請參閱https://go...  \n",
       "1    2019-09-02 08:00:00 這週值日生是 曹志成 詳細請參閱https://go...  \n",
       "2    2019-09-09 08:00:00 這週值日生是 jerrydeng 詳細請參閱http...  \n",
       "157                       😁國定假日參考:中秋節逢週五，放三日 9/13~9/15  \n",
       "3    2019-09-16 08:00:00 這週值日生是 JSWANG 詳細請參閱https:/...  \n",
       "4    2019-09-23 08:00:00 這週值日生是 DAVE 詳細請參閱https://g...  \n",
       "5    2019-09-30 08:00:00 這週值日生是 鄧秀明 詳細請參閱https://go...  \n",
       "158  😁國定假日參考:國慶日逢週四，週五(10/11)彈性放假一天，放四天連假(10/10~10/...  \n",
       "6    2019-10-07 08:00:00 這週值日生是 曾偉雄 詳細請參閱https://go...  \n",
       "7    2019-10-14 08:00:00 這週值日生是 曹志成 詳細請參閱https://go...  "
      ]
     },
     "execution_count": 4,
     "metadata": {},
     "output_type": "execute_result"
    }
   ],
   "source": [
    "# 國定假日通知內容\n",
    "national_holiday = [['2019-09-12 17:00:00', True, '😁國定假日參考:中秋節逢週五，放三日 9/13~9/15'], \n",
    "                    ['2019-10-04 17:00:00', True, '😁國定假日參考:國慶日逢週四，週五(10/11)彈性放假一天，放四天連假(10/10~10/13)，10/5(六)補上班'], \n",
    "                    ['2020-01-01 00:00:00', True, '2020-01-01 00:00:00 😊jerrydeng 祝大家，吉祥如意、心想事成、萬事如意、扭轉乾坤、新春愉快、國泰民安、風調雨順，新年還大家多多關照!!'],\n",
    "                    ['2020-01-22 17:00:00', True, '😁國定假日參考:春節年假，除夕前一天彈性(1/23)放假一天(1/24)除夕放假一天(1/24)，春節放三天，放七天(1/23~1/29)，2/15(六)補上班'], \n",
    "                    ['2020-02-27 17:00:00', True, '😁國定假日參考:二二八和平紀念日逢週五，放三天連假(2/28~3/1)'], \n",
    "                    ['2020-04-01 17:00:00', True, '😁國定假日參考:兒童節與民族掃墓節同一天，兒童節(4/3)提前一天放假一日，民族掃墓節(4/4)為週六，前一個工作日補假一天(4/2)，放四天(4/2~4/5)'], \n",
    "                    ['2020-04-30 17:00:00', True, '😁國定假日參考:勞動節逢週五，放三日 5/1~5/3'], \n",
    "                    ['2020-06-19 17:00:00', True, '😁國定假日參考:端午節逢週四，週五(6/26)彈性放假一天，放四天連假(6/25~6/28)，6/20(六)補上班'], \n",
    "                    ['2020-09-25 17:00:00', False, '😁國定假日參考:中秋節逢週四，週五(10/2)彈性放假一天，放四天連假(10/1~10/4)，9/26(六)補上班'], \n",
    "                    ['2020-10-08 17:00:00', False, '😁國定假日參考:國慶日逢週六，週五補假(10/9)，放三天連假(10/9~10/11)'], \n",
    "                    ['2020-12-30 17:00:00', False, '😁國定假日參考:110 元旦（3 天）:1/1(五)-1/3(日)'],\n",
    "                    ['2021-01-01 00:00:00', False, '2021-01-01 00:00:00 😊jerrydeng 祝大家，吉祥如意、心想事成、每次排隊都買的到口罩，新年還請大家多多關照!!'], \n",
    "                    ['2021-02-09 17:00:00', False, '😁國定假日參考:過年春節（7 天）:2/10(三)-2/16(二)'], \n",
    "                    ['2021-02-26 17:00:00', False, '😁國定假日參考:228紀念日（3 天）:2/27(六)-3/1(一)'], \n",
    "                    ['2021-04-01 17:00:00', False, '😁國定假日參考:兒童節、清明節（4天）:4/2(五)-4/5(一)'], \n",
    "                    ['2021-04-29 17:00:00', False, '😁國定假日參考:勞動節（3天）4/30(五)-5/2(日) (勞工)'], \n",
    "                    ['2021-06-11 17:00:00', False, '😁國定假日參考:端午節（3天）:6/12(六)-6/14(一)'], \n",
    "                    ['2021-09-20 17:00:00', False, '😁國定假日參考:中秋節（1天）:110/9/21(二)'], \n",
    "                    ['2021-10-08 17:00:00', False, '😁國定假日參考:國慶日（3天）:10/9(六)-10/11(一)'], \n",
    "                    ['2021-12-30 17:00:00', False, '😁國定假日參考:111 元旦（3天）:12/31(五)-1/2(日)'], ] \n",
    "\n",
    "# df = pd.read_csv('LINE Notify2.txt', encoding='utf8')  # 讀檔\n",
    "insertRow = pd.DataFrame(national_holiday,columns=['date','bool','text'])  # 把 national_holiday 轉 DataFrame\n",
    "df = df.append(insertRow,ignore_index=True)  # 增加\n",
    "df['date'] = pd.to_datetime(df['date'], format='%Y-%m-%d %H:%M:%S', errors='ignore')  # 轉換成時間\n",
    "df = df.sort_values(by = 'date')  # DataFrame 的 date列 按照日期排序\n",
    "# df.to_csv('LINE Notify2.txt', index=False, encoding='utf8')  # 存檔\n",
    "df.head(10)  # 取前面 10 行\n",
    "# df.tail(10)  # 取後面 10 行 "
   ]
  },
  {
   "cell_type": "code",
   "execution_count": 7,
   "metadata": {},
   "outputs": [
    {
     "name": "stdout",
     "output_type": "stream",
     "text": [
      "現在時間 : 2020-08-10 10:20:31\n"
     ]
    }
   ],
   "source": [
    "# 現在時間\n",
    "date = time.strftime(\"%Y-%m-%d %H:%M:%S\", time.localtime(time.time()+86400*0))\n",
    "print('現在時間 : {}'.format(date))\n",
    "\n",
    "# (bool == Fales) & (date < 現在時間) 符合條件，則通知\n",
    "df2 = df[df.date<date].values\n",
    "for i in range(len(df2)):\n",
    "    if df2[i][1] == False:\n",
    "        print(df2[i][0], df2[i][2])\n",
    "        \n",
    "# (date < 現在時間) 符合條件，則把 bool 改成 True\n",
    "df.loc[df.date<date, 'bool'] = True\n",
    "\n",
    "# 存檔\n",
    "df.to_csv(path, index=False, encoding='utf8')"
   ]
  },
  {
   "cell_type": "markdown",
   "metadata": {},
   "source": [
    "# 檢查是否需要通知"
   ]
  },
  {
   "cell_type": "code",
   "execution_count": 8,
   "metadata": {},
   "outputs": [
    {
     "name": "stdout",
     "output_type": "stream",
     "text": [
      "Overwriting LINE_Notify.py\n"
     ]
    }
   ],
   "source": [
    "%%writefile LINE_Notify.py\n",
    "\n",
    "# 檢查是否需要通知 整合\n",
    "#####################################################################\n",
    "# 載入模組\n",
    "import pandas as pd\n",
    "import time\n",
    "import requests\n",
    "\n",
    "# 重要變數\n",
    "path = r'D:\\Task_Scheduler\\辦公室_LINE通知\\LINE Notify2.txt'\n",
    "\n",
    "# 函數\n",
    "def lineNotify(token, msg):\n",
    "    \"\"\"Line Notify (LENE通知)\n",
    "    \n",
    "    Attributes (屬性)\n",
    "    -----------------\n",
    "    token : str\n",
    "    Get token\n",
    "    https://notify-bot.line.me/zh_TW/\n",
    "    \n",
    "    msg : str\n",
    "    Enter notification content\n",
    "    \n",
    "    references (引用)\n",
    "    -----------------\n",
    "    http://pythonorz.blogspot.com/2017/12/python-line-notify-line-notify-line.html\n",
    "    \"\"\"\n",
    "    url = \"https://notify-api.line.me/api/notify\"\n",
    "    headers = {\n",
    "       \"Authorization\": \"Bearer \" + token,\n",
    "       \"Content-Type\" : \"application/x-www-form-urlencoded\"}\n",
    "    payload = {'message': msg}\n",
    "    r = requests.post(url, headers = headers, params = payload)\n",
    "    return r.status_code\n",
    "\n",
    "# 讀檔\n",
    "df = pd.read_csv(path, encoding='utf8')\n",
    "df['date'] = pd.to_datetime(df['date'])\n",
    "\n",
    "# 現在時間\n",
    "date = time.strftime(\"%Y-%m-%d %H:%M:%S\", time.localtime(time.time()+86400*0))\n",
    "print('現在時間 : {}'.format(date))\n",
    "\n",
    "# (bool == Fales) & (date < 現在時間) 符合條件，則通知\n",
    "df2 = df[df.date<date].values\n",
    "for i in range(len(df2)):\n",
    "    if df2[i][1] == False:\n",
    "        print(df2[i][0], df2[i][2])\n",
    "\n",
    "        \n",
    "\n",
    "# (date < 現在時間) 符合條件，則把 bool 改成 True\n",
    "df.loc[df.date<date, 'bool'] = True\n",
    "\n",
    "# 存檔\n",
    "df.to_csv(path, index=False, encoding='utf8')\n",
    "#####################################################################"
   ]
  },
  {
   "cell_type": "code",
   "execution_count": 9,
   "metadata": {},
   "outputs": [
    {
     "name": "stdout",
     "output_type": "stream",
     "text": [
      "現在時間 : 2020-08-10 10:20:39\n"
     ]
    }
   ],
   "source": [
    "%run LINE_Notify.py"
   ]
  },
  {
   "cell_type": "markdown",
   "metadata": {},
   "source": [
    "# windows 自動排程"
   ]
  },
  {
   "cell_type": "code",
   "execution_count": 32,
   "metadata": {},
   "outputs": [],
   "source": [
    "# 打開檔案總管\n",
    "! explorer ."
   ]
  },
  {
   "cell_type": "code",
   "execution_count": 25,
   "metadata": {},
   "outputs": [
    {
     "data": {
      "text/plain": [
       "0"
      ]
     },
     "execution_count": 25,
     "metadata": {},
     "output_type": "execute_result"
    }
   ],
   "source": [
    "# 開啟工作排程\n",
    "import os\n",
    "os.system(r'%windir%\\system32\\taskschd.msc /s')"
   ]
  },
  {
   "cell_type": "markdown",
   "metadata": {},
   "source": [
    "#### windows 自動排程\n",
    "1. 開始工作排程\n",
    "* 建立工作\n",
    "* <font size=4 color=blue>一般</font>\n",
    "* 名稱 : Taipei_office_LINE_notice\n",
    "* 勾選 : 不論使用者登入與否均執行\n",
    "* 勾選 : 以最高權限執行\n",
    "* 設定(C) : Windows 10\n",
    "* <font size=4 color=blue>觸發程序</font>\n",
    "* 新增\n",
    "* 登入\n",
    "* 每小時執行\n",
    "* <font size=4 color=blue>動作</font>\n",
    "* 程式或指令瑪 : <font color=red>C:\\Users\\jerrydeng\\Desktop\\Work\\python_win\\Virtualenv\\env\\Scripts\\python.exe</font>\n",
    "* 新增引數 : <font color=red>C:\\Users\\jerrydeng\\Desktop\\Work\\python_win\\台北辦公室LINE通知\\LINE_Notify.py</font>\n",
    "* 開始位置 : <font color=red>C:\\Users\\jerrydeng\\Desktop\\Work\\python_win\\台北辦公室LINE通知</font>\n",
    "\n",
    "* 帳號 : DESKTOP-V0K8HF7\\jerrydeng\n",
    "* 密碼 : 登入電腦密碼"
   ]
  },
  {
   "cell_type": "code",
   "execution_count": 23,
   "metadata": {},
   "outputs": [
    {
     "name": "stdout",
     "output_type": "stream",
     "text": [
      "Overwriting 產生工作排程設定.py\n"
     ]
    }
   ],
   "source": [
    "%%writefile 產生工作排程設定.py\n",
    "import os\n",
    "import getpass\n",
    "\n",
    "path_0 = os.getcwd()  # 當前工作目錄\n",
    "path_1 = os.path.join(path_0, '..')\n",
    "os.chdir(path_1)  # 改變當前工作目錄到指定路徑\n",
    "path_2 = os.getcwd()\n",
    "os.chdir(path_0)  # 改變當前工作目錄到指定路徑\n",
    "\n",
    "# 重要變數\n",
    "RP=getpass.getpass(\"輸入使用者密碼 : \")\n",
    "\n",
    "# 產生工作排程指令\n",
    "path_00 = os.path.join(path_2, 'Task_Scheduler_env', 'Scripts', 'python.exe')\n",
    "path_01 = os.path.join(path_0, 'LINE_Notify.py')\n",
    "TN = 'Taipei_office_LINE_notice'\n",
    "SC = r'minute' # 分鐘\n",
    "MO = '1'  # 間隔\n",
    "TR = r'{} {}'.format(path_00, path_01)  # 執行指令\n",
    "COMPUTERNAME = os.getenv(\"COMPUTERNAME\")\n",
    "USERNAME = os.environ['USERNAME']\n",
    "RU = r'{}\\{}'.format(COMPUTERNAME, USERNAME)  # COMPUTERNAME\\USERNAME\n",
    "# RP = '密碼'  # 密碼\n",
    "RL = 'HIGHEST'  # 權限\n",
    "t_0 = r'SCHTASKS /Create /TN \"{TN}\" /SC {SC} /MO {MO} /TR \"{TR}\" /RU {RU} /RP {RP} /RL {RL}'.format(TN=TN, SC=SC, MO=MO, TR=TR, RU=RU, RP=RP, RL=RL)\n",
    "\n",
    "# 產生批次檔\n",
    "t_all = r'''@echo off\n",
    "set t_0={t_0}\n",
    "cmd /k \"%t_0%\"'''.format(t_0=t_0)\n",
    "print(t_all)\n",
    "\n",
    "# 存檔\n",
    "with open('產生工作排程設定.bat', 'w', encoding='big5') as f:\n",
    "    f.write(t_all)"
   ]
  },
  {
   "cell_type": "code",
   "execution_count": 26,
   "metadata": {},
   "outputs": [
    {
     "name": "stdout",
     "output_type": "stream",
     "text": [
      "輸入使用者密碼 : ········\n",
      "@echo off\n",
      "set t_0=SCHTASKS /Create /TN \"Taipei_office_LINE_notice\" /SC minute /MO 1 /TR \"D:\\Task_Scheduler\\Task_Scheduler_env\\Scripts\\python.exe D:\\Task_Scheduler\\辦公室_LINE通知\\LINE_Notify.py\" /RU DESKTOP-V0K8HF7\\jerrydeng /RP jerrydeng11 /RL HIGHEST\n",
      "cmd /k \"%t_0%\"\n"
     ]
    }
   ],
   "source": [
    "%run 產生工作排程設定.py"
   ]
  },
  {
   "cell_type": "code",
   "execution_count": null,
   "metadata": {},
   "outputs": [],
   "source": []
  }
 ],
 "metadata": {
  "kernelspec": {
   "display_name": "Python 3",
   "language": "python",
   "name": "python3"
  },
  "language_info": {
   "codemirror_mode": {
    "name": "ipython",
    "version": 3
   },
   "file_extension": ".py",
   "mimetype": "text/x-python",
   "name": "python",
   "nbconvert_exporter": "python",
   "pygments_lexer": "ipython3",
   "version": "3.7.4"
  },
  "toc": {
   "base_numbering": 1,
   "nav_menu": {},
   "number_sections": true,
   "sideBar": true,
   "skip_h1_title": false,
   "title_cell": "Table of Contents",
   "title_sidebar": "Contents",
   "toc_cell": false,
   "toc_position": {},
   "toc_section_display": true,
   "toc_window_display": false
  }
 },
 "nbformat": 4,
 "nbformat_minor": 2
}
