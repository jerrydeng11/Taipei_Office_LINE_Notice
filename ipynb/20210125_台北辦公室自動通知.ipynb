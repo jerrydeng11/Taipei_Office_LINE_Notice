{
 "cells": [
  {
   "cell_type": "markdown",
   "metadata": {},
   "source": [
    "# 教學網址收集\n",
    "* [Pandas.DataFrame插入列和行](https://www.jianshu.com/p/7df2593a01ce)\n",
    "* [透過 Python 發 Line Notify](http://pythonorz.blogspot.com/2017/12/python-line-notify-line-notify-line.html)\n",
    "* [到設定網址  https://notify-bot.line.me/zh_TW/  進行登入](https://notify-bot.line.me/zh_TW/)\n",
    "* [台北辦公室 生活公約](https://docs.google.com/presentation/d/1QTi_Ui7rgbEFeesdi2_yDTc3Xs7c6qB07m6ElC28jR8/edit#slide=id.g42e71d88a5_0_0)\n",
    "* [某些列满足特定条件，然后改变另外的某些列的值（Python）](https://blog.csdn.net/a19990412/article/details/79609422)\n",
    "* [dataframe设置两个条件取值](https://blog.csdn.net/GeekLeee/article/details/75268762)\n",
    "* [短網址](https://www.ifreesite.com/shorturl/)\n",
    "* [符號 ❤](https://tw.piliapp.com/emoji/list/symbols/)\n",
    "\n",
    "# 目標\n",
    "1. 每周台辦公室值日生通知\n",
    "2. 國定假日值日生通知\n",
    "3. 生日通知\n",
    "4. 預留增加通知方法\n",
    "\n",
    "# 需要功能或準備\n",
    "1. windows 自動排程 ok\n",
    "2. 值日生編排 ok\n",
    "3. 準備國定假日表 ok\n",
    "4. 準備生日表\n",
    "5. LINE開發者設定 https://notify-bot.line.me/zh_TW/ ok\n",
    "\n",
    "# 資料來源\n",
    "\n",
    "[2021年行事曆 輕鬆規劃請假攻略](https://www.google.com/search?sxsrf=ALeKk02uBV518tSMGX8KLhGVa6wn39ph0A%3A1611556080333&ei=8GQOYIvGE8qKr7wPqq-q2AM&q=2021%E5%B9%B4%E8%A1%8C%E4%BA%8B%E6%9B%86+%E8%BC%95%E9%AC%86%E8%A6%8F%E5%8A%83%E8%AB%8B%E5%81%87%E6%94%BB%E7%95%A5&oq=2021%E5%B9%B4%E8%A1%8C%E4%BA%8B%E6%9B%86+%E8%BC%95%E9%AC%86%E8%A6%8F%E5%8A%83%E8%AB%8B%E5%81%87%E6%94%BB%E7%95%A5&gs_lcp=CgZwc3ktYWIQAzIFCAAQzQI6BAgjECdQtPIBWNn0AWCb9gFoAHAAeACAAT2IAZQCkgEBNZgBAKABAaoBB2d3cy13aXrAAQE&sclient=psy-ab&ved=0ahUKEwiL_s-durbuAhVKxYsBHaqXCjsQ4dUDCA0&uact=5)\n",
    "\n",
    "# 安裝套件\n",
    "\n",
    "```shell\n",
    "pip install requests\n",
    "```\n",
    "\n",
    "# 標準流程 (重要)\n",
    "\n",
    "開始修改以下程式時，請先關閉 windows 10 工作排程\n",
    "\n",
    "修改完成再開啟工作排程"
   ]
  },
  {
   "cell_type": "markdown",
   "metadata": {},
   "source": [
    "## 初始化"
   ]
  },
  {
   "cell_type": "code",
   "execution_count": 1,
   "metadata": {},
   "outputs": [],
   "source": [
    "path = 'LINE Notify.txt'  # 儲存位置"
   ]
  },
  {
   "cell_type": "markdown",
   "metadata": {},
   "source": [
    "## 值日生編排"
   ]
  },
  {
   "cell_type": "code",
   "execution_count": 2,
   "metadata": {},
   "outputs": [
    {
     "data": {
      "text/html": [
       "<div>\n",
       "<style scoped>\n",
       "    .dataframe tbody tr th:only-of-type {\n",
       "        vertical-align: middle;\n",
       "    }\n",
       "\n",
       "    .dataframe tbody tr th {\n",
       "        vertical-align: top;\n",
       "    }\n",
       "\n",
       "    .dataframe thead th {\n",
       "        text-align: right;\n",
       "    }\n",
       "</style>\n",
       "<table border=\"1\" class=\"dataframe\">\n",
       "  <thead>\n",
       "    <tr style=\"text-align: right;\">\n",
       "      <th></th>\n",
       "      <th>date</th>\n",
       "      <th>bool</th>\n",
       "      <th>text</th>\n",
       "    </tr>\n",
       "  </thead>\n",
       "  <tbody>\n",
       "    <tr>\n",
       "      <th>0</th>\n",
       "      <td>2021-01-25 08:00:00</td>\n",
       "      <td>False</td>\n",
       "      <td>2021-01-25 08:00:00 這週值日生是 jerrydeng 詳細請參閱http...</td>\n",
       "    </tr>\n",
       "    <tr>\n",
       "      <th>1</th>\n",
       "      <td>2021-02-01 08:00:00</td>\n",
       "      <td>False</td>\n",
       "      <td>2021-02-01 08:00:00 這週值日生是 JSWANG 詳細請參閱https:/...</td>\n",
       "    </tr>\n",
       "    <tr>\n",
       "      <th>2</th>\n",
       "      <td>2021-02-08 08:00:00</td>\n",
       "      <td>False</td>\n",
       "      <td>2021-02-08 08:00:00 這週值日生是 DAVE 詳細請參閱https://g...</td>\n",
       "    </tr>\n",
       "    <tr>\n",
       "      <th>3</th>\n",
       "      <td>2021-02-15 08:00:00</td>\n",
       "      <td>False</td>\n",
       "      <td>2021-02-15 08:00:00 這週值日生是 蔡佳玲 詳細請參閱https://go...</td>\n",
       "    </tr>\n",
       "    <tr>\n",
       "      <th>4</th>\n",
       "      <td>2021-02-22 08:00:00</td>\n",
       "      <td>False</td>\n",
       "      <td>2021-02-22 08:00:00 這週值日生是 鄧秀明 詳細請參閱https://go...</td>\n",
       "    </tr>\n",
       "  </tbody>\n",
       "</table>\n",
       "</div>"
      ],
      "text/plain": [
       "                 date   bool  \\\n",
       "0 2021-01-25 08:00:00  False   \n",
       "1 2021-02-01 08:00:00  False   \n",
       "2 2021-02-08 08:00:00  False   \n",
       "3 2021-02-15 08:00:00  False   \n",
       "4 2021-02-22 08:00:00  False   \n",
       "\n",
       "                                                text  \n",
       "0  2021-01-25 08:00:00 這週值日生是 jerrydeng 詳細請參閱http...  \n",
       "1  2021-02-01 08:00:00 這週值日生是 JSWANG 詳細請參閱https:/...  \n",
       "2  2021-02-08 08:00:00 這週值日生是 DAVE 詳細請參閱https://g...  \n",
       "3  2021-02-15 08:00:00 這週值日生是 蔡佳玲 詳細請參閱https://go...  \n",
       "4  2021-02-22 08:00:00 這週值日生是 鄧秀明 詳細請參閱https://go...  "
      ]
     },
     "execution_count": 2,
     "metadata": {},
     "output_type": "execute_result"
    }
   ],
   "source": [
    "# 載入套件\n",
    "import time\n",
    "import pandas as pd\n",
    "\n",
    "# # 變數_舊\n",
    "# ##################################################################################\n",
    "# start = '2018-08-13 08:00:00'  #開始時間\n",
    "# end = '2021-08-17 08:00:00'  # 結束時間\n",
    "# name = ['DAVE', '鄧秀明', '雅雅', '曹志成', 'jerrydeng', 'JSWANG']  # 辦公室人員名稱\n",
    "# ##################################################################################\n",
    "\n",
    "# # 變數_新\n",
    "# ##################################################################################\n",
    "# start = '2019-08-26 08:00:00'  #開始時間\n",
    "# end = '2022-08-26 08:00:00'  # 結束時間\n",
    "# name = ['陳宥樺', '曹志成', 'jerrydeng', 'JSWANG', 'DAVE', '鄧秀明']  # 辦公室人員名稱_新\n",
    "# ##################################################################################\n",
    "\n",
    "# 變數_新\n",
    "##################################################################################\n",
    "start = '2021-01-25 08:00:00'  #開始時間\n",
    "end = '2024-01-25 08:00:00'  # 結束時間\n",
    "name = ['jerrydeng', 'JSWANG', 'DAVE', '蔡佳玲','鄧秀明', '曾偉雄', '曹志成']  # 辦公室人員名稱_新\n",
    "##################################################################################\n",
    "\n",
    "# 時間轉換為 Unix 時間戳\n",
    "start_unix = time.mktime(time.strptime(start,\"%Y-%m-%d %H:%M:%S\"))\n",
    "end_unix = time.mktime(time.strptime(end,\"%Y-%m-%d %H:%M:%S\"))\n",
    "\n",
    "dates = []\n",
    "n = 0\n",
    "while start_unix<end_unix:\n",
    "    # 格式化成Sat Mar 28 22:24:24 2016形式\n",
    "    date = time.strftime(\"%Y-%m-%d %H:%M:%S\", time.localtime(start_unix))\n",
    "    dates.append([date, \n",
    "                  False, \n",
    "                  \"{0} 這週值日生是 {1} 詳細請參閱https://goo.gl/15qpxK 感謝 {1}!💖\".format(date, name[n%len(name)])])\n",
    "    start_unix += 86400*7\n",
    "    n += 1\n",
    "# #print(dates)\n",
    "df = pd.DataFrame(dates, columns=['date', 'bool', 'text'])\n",
    "df['date'] = pd.to_datetime(df['date'])\n",
    "# #print(df.dtypes)\n",
    "\n",
    "# 存檔\n",
    "# df.to_csv('LINE Notify2.txt', index=False, encoding='utf8')\n",
    "\n",
    "df.head()"
   ]
  },
  {
   "cell_type": "markdown",
   "metadata": {},
   "source": [
    "## 增加國定假日編排"
   ]
  },
  {
   "cell_type": "code",
   "execution_count": 3,
   "metadata": {},
   "outputs": [
    {
     "data": {
      "text/html": [
       "<div>\n",
       "<style scoped>\n",
       "    .dataframe tbody tr th:only-of-type {\n",
       "        vertical-align: middle;\n",
       "    }\n",
       "\n",
       "    .dataframe tbody tr th {\n",
       "        vertical-align: top;\n",
       "    }\n",
       "\n",
       "    .dataframe thead th {\n",
       "        text-align: right;\n",
       "    }\n",
       "</style>\n",
       "<table border=\"1\" class=\"dataframe\">\n",
       "  <thead>\n",
       "    <tr style=\"text-align: right;\">\n",
       "      <th></th>\n",
       "      <th>date</th>\n",
       "      <th>bool</th>\n",
       "      <th>text</th>\n",
       "    </tr>\n",
       "  </thead>\n",
       "  <tbody>\n",
       "    <tr>\n",
       "      <th>157</th>\n",
       "      <td>2021-01-01 00:00:00</td>\n",
       "      <td>False</td>\n",
       "      <td>2021-01-01 00:00:00 😊jerrydeng 祝大家，吉祥如意、心想事成、每...</td>\n",
       "    </tr>\n",
       "    <tr>\n",
       "      <th>0</th>\n",
       "      <td>2021-01-25 08:00:00</td>\n",
       "      <td>False</td>\n",
       "      <td>2021-01-25 08:00:00 這週值日生是 jerrydeng 詳細請參閱http...</td>\n",
       "    </tr>\n",
       "    <tr>\n",
       "      <th>1</th>\n",
       "      <td>2021-02-01 08:00:00</td>\n",
       "      <td>False</td>\n",
       "      <td>2021-02-01 08:00:00 這週值日生是 JSWANG 詳細請參閱https:/...</td>\n",
       "    </tr>\n",
       "    <tr>\n",
       "      <th>2</th>\n",
       "      <td>2021-02-08 08:00:00</td>\n",
       "      <td>False</td>\n",
       "      <td>2021-02-08 08:00:00 這週值日生是 DAVE 詳細請參閱https://g...</td>\n",
       "    </tr>\n",
       "    <tr>\n",
       "      <th>158</th>\n",
       "      <td>2021-02-09 17:00:00</td>\n",
       "      <td>False</td>\n",
       "      <td>😁國定假日參考:過年春節（7 天）:2/10(三)-2/16(二)</td>\n",
       "    </tr>\n",
       "    <tr>\n",
       "      <th>3</th>\n",
       "      <td>2021-02-15 08:00:00</td>\n",
       "      <td>False</td>\n",
       "      <td>2021-02-15 08:00:00 這週值日生是 蔡佳玲 詳細請參閱https://go...</td>\n",
       "    </tr>\n",
       "    <tr>\n",
       "      <th>4</th>\n",
       "      <td>2021-02-22 08:00:00</td>\n",
       "      <td>False</td>\n",
       "      <td>2021-02-22 08:00:00 這週值日生是 鄧秀明 詳細請參閱https://go...</td>\n",
       "    </tr>\n",
       "    <tr>\n",
       "      <th>159</th>\n",
       "      <td>2021-02-26 17:00:00</td>\n",
       "      <td>False</td>\n",
       "      <td>😁國定假日參考:228紀念日（3 天）:2/27(六)-3/1(一)</td>\n",
       "    </tr>\n",
       "    <tr>\n",
       "      <th>5</th>\n",
       "      <td>2021-03-01 08:00:00</td>\n",
       "      <td>False</td>\n",
       "      <td>2021-03-01 08:00:00 這週值日生是 曾偉雄 詳細請參閱https://go...</td>\n",
       "    </tr>\n",
       "    <tr>\n",
       "      <th>6</th>\n",
       "      <td>2021-03-08 08:00:00</td>\n",
       "      <td>False</td>\n",
       "      <td>2021-03-08 08:00:00 這週值日生是 曹志成 詳細請參閱https://go...</td>\n",
       "    </tr>\n",
       "  </tbody>\n",
       "</table>\n",
       "</div>"
      ],
      "text/plain": [
       "                   date   bool  \\\n",
       "157 2021-01-01 00:00:00  False   \n",
       "0   2021-01-25 08:00:00  False   \n",
       "1   2021-02-01 08:00:00  False   \n",
       "2   2021-02-08 08:00:00  False   \n",
       "158 2021-02-09 17:00:00  False   \n",
       "3   2021-02-15 08:00:00  False   \n",
       "4   2021-02-22 08:00:00  False   \n",
       "159 2021-02-26 17:00:00  False   \n",
       "5   2021-03-01 08:00:00  False   \n",
       "6   2021-03-08 08:00:00  False   \n",
       "\n",
       "                                                  text  \n",
       "157  2021-01-01 00:00:00 😊jerrydeng 祝大家，吉祥如意、心想事成、每...  \n",
       "0    2021-01-25 08:00:00 這週值日生是 jerrydeng 詳細請參閱http...  \n",
       "1    2021-02-01 08:00:00 這週值日生是 JSWANG 詳細請參閱https:/...  \n",
       "2    2021-02-08 08:00:00 這週值日生是 DAVE 詳細請參閱https://g...  \n",
       "158                  😁國定假日參考:過年春節（7 天）:2/10(三)-2/16(二)  \n",
       "3    2021-02-15 08:00:00 這週值日生是 蔡佳玲 詳細請參閱https://go...  \n",
       "4    2021-02-22 08:00:00 這週值日生是 鄧秀明 詳細請參閱https://go...  \n",
       "159                 😁國定假日參考:228紀念日（3 天）:2/27(六)-3/1(一)  \n",
       "5    2021-03-01 08:00:00 這週值日生是 曾偉雄 詳細請參閱https://go...  \n",
       "6    2021-03-08 08:00:00 這週值日生是 曹志成 詳細請參閱https://go...  "
      ]
     },
     "execution_count": 3,
     "metadata": {},
     "output_type": "execute_result"
    }
   ],
   "source": [
    "# 國定假日通知內容\n",
    "national_holiday = [['2021-01-01 00:00:00', False, '2021-01-01 00:00:00 😊jerrydeng 祝大家，吉祥如意、心想事成、每次排隊都買的到口罩，新年還請大家多多關照!!'], \n",
    "                    ['2021-02-09 17:00:00', False, '😁國定假日參考:過年春節（7 天）:2/10(三)-2/16(二)'], \n",
    "                    ['2021-02-26 17:00:00', False, '😁國定假日參考:228紀念日（3 天）:2/27(六)-3/1(一)'], \n",
    "                    ['2021-04-01 17:00:00', False, '😁國定假日參考:兒童節、清明節（4天）:4/2(五)-4/5(一)'], \n",
    "                    ['2021-04-29 17:00:00', False, '😁國定假日參考:勞動節（3天）4/30(五)-5/2(日) (勞工)'], \n",
    "                    ['2021-06-11 17:00:00', False, '😁國定假日參考:端午節（3天）:6/12(六)-6/14(一)'], \n",
    "                    ['2021-09-20 17:00:00', False, '😁國定假日參考:中秋節（1天）:110/9/21(二)'], \n",
    "                    ['2021-10-08 17:00:00', False, '😁國定假日參考:國慶日（3天）:10/9(六)-10/11(一)'], \n",
    "                    ['2021-12-30 17:00:00', False, '😁國定假日參考:111年 元旦（3天）:12/31(五)-1/2(日)'], \n",
    "                    ['2022-01-01 00:00:00', False, '2022-01-01 00:00:00 😊jerrydeng 祝大家，吉祥如意、心想事成'], \n",
    "                    ['2022-01-28 17:00:00', False, '😁國定假日參考:過年春節( 9天）:1/29(六)-2/6(日)'], \n",
    "                    ['2022-02-25 17:00:00', False, '😁國定假日參考:228連假( 3天）:2/26(六)-2/28(一)'], \n",
    "                    ['2022-04-01 17:00:00', False, '😁國定假日參考:兒童節,清明節( 4天）:4/2(六)-4/5(二)'], \n",
    "                    ['2022-04-30 17:00:00', False, '😁國定假日參考:勞動節(3 天）:4/30(六)-5/2(一) *限勞工'], \n",
    "                    ['2022-06-02 17:00:00', False, '😁國定假日參考:端午節(3 天）:6/3(五)-6/5(日)'], \n",
    "                    ['2022-09-08 17:00:00', False, '😁國定假日參考:中秋節(3 天）:9/9(五)-9/11(日)'], \n",
    "                    ['2022-10-07 17:00:00', False, '😁國定假日參考:國慶日(3 天）:10/8(六)-10/10(一)'], \n",
    "                    ['2022-12-30 17:00:00', False, '😁國定假日參考:112年 元旦(3 天）:12/31(六)-2023/1/2(一)'], \n",
    "                    ['2023-01-01 00:00:00', False, '2023-01-01 00:00:00 😊jerrydeng 祝大家，吉祥如意、心想事成'], \n",
    "                    ['2023-01-20 17:00:00', False, '😁國定假日參考:農曆除夕及春節假期 1/21(六)~1/29(日)'], \n",
    "                    ['2023-02-24 17:00:00', False, '😁國定假日參考:228紀念日 2/25(六) ~ 2/28(日)'], \n",
    "                    ['2023-03-31 17:00:00', False, '😁國定假日參考:清明節 4/1(六) ~ 4/5(三)'], \n",
    "                    ['2023-06-21 17:00:00', False, '😁國定假日參考:端午節 6/22(四) ~ 6/25(日)'],\n",
    "                    ['2023-09-28 17:00:00', False, '😁國定假日參考:中秋節 9/29(五)~10/1(日)'], \n",
    "                    ['2023-10-06 17:00:00', False, '😁國定假日參考:雙十國慶 10/7(六)~10/10(二)'], \n",
    "                    ['2023-12-29 17:00:00', False, '😁國定假日參考:2024年元旦 12/30(六)~1/1(一)'], ] \n",
    "\n",
    "insertRow = pd.DataFrame(national_holiday,columns=['date','bool','text'])  # 把 national_holiday 轉 DataFrame\n",
    "df = df.append(insertRow,ignore_index=True)  # 增加\n",
    "df['date'] = pd.to_datetime(df['date'], format='%Y-%m-%d %H:%M:%S', errors='ignore')  # 轉換成時間\n",
    "df = df.sort_values(by = 'date')  # DataFrame 的 date列 按照日期排序\n",
    "df.head(10)  # 取前面 10 行"
   ]
  },
  {
   "cell_type": "markdown",
   "metadata": {},
   "source": [
    "## 現在時間以前的全部改 True"
   ]
  },
  {
   "cell_type": "code",
   "execution_count": 4,
   "metadata": {},
   "outputs": [
    {
     "name": "stdout",
     "output_type": "stream",
     "text": [
      "現在時間 : 2021-01-25 15:19:08\n",
      "2021-01-01 00:00:00 2021-01-01 00:00:00 😊jerrydeng 祝大家，吉祥如意、心想事成、每次排隊都買的到口罩，新年還請大家多多關照!!\n",
      "2021-01-25 08:00:00 2021-01-25 08:00:00 這週值日生是 jerrydeng 詳細請參閱https://goo.gl/15qpxK 感謝 jerrydeng!💖\n"
     ]
    }
   ],
   "source": [
    "# 現在時間\n",
    "date = time.strftime(\"%Y-%m-%d %H:%M:%S\", time.localtime(time.time()+86400*0))\n",
    "print('現在時間 : {}'.format(date))\n",
    "\n",
    "# (bool == Fales) & (date < 現在時間) 符合條件，則通知\n",
    "df2 = df[df.date<date].values\n",
    "for i in range(len(df2)):\n",
    "    if df2[i][1] == False:\n",
    "        print(df2[i][0], df2[i][2])\n",
    "        \n",
    "# (date < 現在時間) 符合條件，則把 bool 改成 True\n",
    "df.loc[df.date<date, 'bool'] = True\n",
    "\n",
    "# 存檔\n",
    "df.to_csv(path, index=False, encoding='utf8')"
   ]
  },
  {
   "cell_type": "markdown",
   "metadata": {},
   "source": [
    "## 檢查是否需要通知"
   ]
  },
  {
   "cell_type": "code",
   "execution_count": 6,
   "metadata": {},
   "outputs": [
    {
     "name": "stdout",
     "output_type": "stream",
     "text": [
      "Overwriting LINE_Notify.py\n"
     ]
    }
   ],
   "source": [
    "%%writefile LINE_Notify.py\n",
    "# 檢查是否需要通知 整合\n",
    "#####################################################################\n",
    "# 載入模組\n",
    "import pandas as pd\n",
    "import time\n",
    "import requests\n",
    "\n",
    "# 重要變數\n",
    "path = r'D:\\Task_Scheduler\\Taipei_Office_LINE_Notice\\ipynb\\LINE Notify.txt'\n",
    "\n",
    "# 函數\n",
    "def lineNotify(token, msg):\n",
    "    \"\"\"Line Notify (LENE通知)\n",
    "    \n",
    "    Attributes (屬性)\n",
    "    -----------------\n",
    "    token : str\n",
    "    Get token\n",
    "    https://notify-bot.line.me/zh_TW/\n",
    "    \n",
    "    msg : str\n",
    "    Enter notification content\n",
    "    \n",
    "    references (引用)\n",
    "    -----------------\n",
    "    http://pythonorz.blogspot.com/2017/12/python-line-notify-line-notify-line.html\n",
    "    \"\"\"\n",
    "    url = \"https://notify-api.line.me/api/notify\"\n",
    "    headers = {\n",
    "       \"Authorization\": \"Bearer \" + token,\n",
    "       \"Content-Type\" : \"application/x-www-form-urlencoded\"}\n",
    "    payload = {'message': msg}\n",
    "    r = requests.post(url, headers = headers, params = payload)\n",
    "    return r.status_code\n",
    "\n",
    "# 讀檔\n",
    "df = pd.read_csv(path, encoding='utf8')\n",
    "df['date'] = pd.to_datetime(df['date'])\n",
    "\n",
    "# 現在時間\n",
    "date = time.strftime(\"%Y-%m-%d %H:%M:%S\", time.localtime(time.time()+86400*0))\n",
    "print('現在時間 : {}'.format(date))\n",
    "\n",
    "# (bool == Fales) & (date < 現在時間) 符合條件，則通知\n",
    "df2 = df[df.date<date].values\n",
    "for i in range(len(df2)):\n",
    "    if df2[i][1] == False:\n",
    "        print(df2[i][0], df2[i][2])\n",
    "#         lineNotify(\"5Q6LYypI0LarQISvpSitg2daxYuH6CKm21NYrZkCfuU\", df2[i][2])  # 測試用令牌\n",
    "        lineNotify(\"POuifz2jxPDszLZLpy6VThR8o40Yf0xTw6MlkPU9hp5\", df2[i][2])  # 正是用令牌\n",
    "        \n",
    "\n",
    "# (date < 現在時間) 符合條件，則把 bool 改成 True\n",
    "df.loc[df.date<date, 'bool'] = True\n",
    "\n",
    "# 存檔\n",
    "df.to_csv(path, index=False, encoding='utf8')\n",
    "#####################################################################"
   ]
  },
  {
   "cell_type": "markdown",
   "metadata": {},
   "source": [
    "## 測試"
   ]
  },
  {
   "cell_type": "code",
   "execution_count": 7,
   "metadata": {},
   "outputs": [
    {
     "name": "stdout",
     "output_type": "stream",
     "text": [
      "現在時間 : 2021-01-25 15:19:24\n"
     ]
    }
   ],
   "source": [
    "%run LINE_Notify.py"
   ]
  },
  {
   "cell_type": "markdown",
   "metadata": {},
   "source": [
    "# windows 自動排程"
   ]
  },
  {
   "cell_type": "code",
   "execution_count": 22,
   "metadata": {},
   "outputs": [],
   "source": [
    "# 打開檔案總管\n",
    "!explorer ."
   ]
  },
  {
   "cell_type": "code",
   "execution_count": 24,
   "metadata": {},
   "outputs": [
    {
     "data": {
      "text/plain": [
       "0"
      ]
     },
     "execution_count": 24,
     "metadata": {},
     "output_type": "execute_result"
    }
   ],
   "source": [
    "# 開啟工作排程\n",
    "import os\n",
    "os.system(r'%windir%\\system32\\taskschd.msc /s')"
   ]
  },
  {
   "cell_type": "markdown",
   "metadata": {},
   "source": [
    "## windows 自動排程\n",
    "\n",
    "1. 開始工作排程\n",
    "* 建立工作\n",
    "* <font size=4 color=blue>一般</font>\n",
    "* 名稱 : Taipei_office_LINE_notice\n",
    "* 勾選 : 不論使用者登入與否均執行\n",
    "* 勾選 : 以最高權限執行\n",
    "* 設定(C) : Windows 10\n",
    "* <font size=4 color=blue>觸發程序</font>\n",
    "* 新增\n",
    "* 登入\n",
    "* 每小時執行\n",
    "* <font size=4 color=blue>動作</font>\n",
    "* 程式或指令瑪 : <font color=red>C:\\Users\\jerrydeng\\Desktop\\Work\\python_win\\Virtualenv\\env\\Scripts\\python.exe</font>\n",
    "* 新增引數 : <font color=red>C:\\Users\\jerrydeng\\Desktop\\Work\\python_win\\台北辦公室LINE通知\\LINE_Notify.py</font>\n",
    "* 開始位置 : <font color=red>C:\\Users\\jerrydeng\\Desktop\\Work\\python_win\\台北辦公室LINE通知</font>\n",
    "\n",
    "* 帳號 : DESKTOP-V0K8HF7\\jerrydeng\n",
    "* 密碼 : 登入電腦密碼"
   ]
  },
  {
   "cell_type": "code",
   "execution_count": null,
   "metadata": {},
   "outputs": [],
   "source": [
    "# %%writefile 產生工作排程設定.py\n",
    "# import os\n",
    "# import getpass\n",
    "\n",
    "# path_0 = os.getcwd()  # 當前工作目錄\n",
    "# path_1 = os.path.join(path_0, '..')\n",
    "# os.chdir(path_1)  # 改變當前工作目錄到指定路徑\n",
    "# path_2 = os.getcwd()\n",
    "# os.chdir(path_0)  # 改變當前工作目錄到指定路徑\n",
    "\n",
    "# # 重要變數\n",
    "# RP=getpass.getpass(\"輸入使用者密碼 : \")\n",
    "\n",
    "# # 產生工作排程指令\n",
    "# path_00 = os.path.join(path_2, 'Task_Scheduler_env', 'Scripts', 'python.exe')\n",
    "# path_01 = os.path.join(path_0, 'LINE_Notify.py')\n",
    "# TN = 'Taipei_office_LINE_notice'\n",
    "# SC = r'minute' # 分鐘\n",
    "# MO = '1'  # 間隔\n",
    "# TR = r'{} {}'.format(path_00, path_01)  # 執行指令\n",
    "# COMPUTERNAME = os.getenv(\"COMPUTERNAME\")\n",
    "# USERNAME = os.environ['USERNAME']\n",
    "# RU = r'{}\\{}'.format(COMPUTERNAME, USERNAME)  # COMPUTERNAME\\USERNAME\n",
    "# # RP = '密碼'  # 密碼\n",
    "# RL = 'HIGHEST'  # 權限\n",
    "# t_0 = r'SCHTASKS /Create /TN \"{TN}\" /SC {SC} /MO {MO} /TR \"{TR}\" /RU {RU} /RP {RP} /RL {RL}'.format(TN=TN, SC=SC, MO=MO, TR=TR, RU=RU, RP=RP, RL=RL)\n",
    "\n",
    "# # 產生批次檔\n",
    "# t_all = r'''@echo off\n",
    "# set t_0={t_0}\n",
    "# cmd /k \"%t_0%\"'''.format(t_0=t_0)\n",
    "# print(t_all)\n",
    "\n",
    "# # 存檔\n",
    "# with open('產生工作排程設定.bat', 'w', encoding='big5') as f:\n",
    "#     f.write(t_all)"
   ]
  },
  {
   "cell_type": "code",
   "execution_count": null,
   "metadata": {},
   "outputs": [],
   "source": [
    "# %run 產生工作排程設定.py"
   ]
  }
 ],
 "metadata": {
  "kernelspec": {
   "display_name": "Python 3",
   "language": "python",
   "name": "python3"
  },
  "language_info": {
   "codemirror_mode": {
    "name": "ipython",
    "version": 3
   },
   "file_extension": ".py",
   "mimetype": "text/x-python",
   "name": "python",
   "nbconvert_exporter": "python",
   "pygments_lexer": "ipython3",
   "version": "3.7.4"
  },
  "toc": {
   "base_numbering": 1,
   "nav_menu": {},
   "number_sections": true,
   "sideBar": true,
   "skip_h1_title": false,
   "title_cell": "Table of Contents",
   "title_sidebar": "Contents",
   "toc_cell": false,
   "toc_position": {
    "height": "calc(100% - 180px)",
    "left": "10px",
    "top": "150px",
    "width": "307.2px"
   },
   "toc_section_display": true,
   "toc_window_display": true
  }
 },
 "nbformat": 4,
 "nbformat_minor": 4
}
